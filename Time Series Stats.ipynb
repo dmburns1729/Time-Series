{
 "cells": [
  {
   "cell_type": "markdown",
   "id": "b0938e0f",
   "metadata": {},
   "source": [
    "# Time Series Stats"
   ]
  },
  {
   "cell_type": "markdown",
   "id": "969e48d5",
   "metadata": {},
   "source": [
    "## Learning Objectives:\n",
    "\n",
    "- Convert between new values and cumulative values\n",
    "- Calculate rolling statistics (e.g. moving average)\n",
    "\n",
    "## Cumulative Data vs New Data\n",
    "We will continue to work with our county Covid data that has been grouped by state."
   ]
  },
  {
   "cell_type": "code",
   "execution_count": null,
   "id": "c59a6710",
   "metadata": {},
   "outputs": [],
   "source": []
  }
 ],
 "metadata": {
  "kernelspec": {
   "display_name": "Python (dojo-env)",
   "language": "python",
   "name": "dojo-env"
  },
  "language_info": {
   "codemirror_mode": {
    "name": "ipython",
    "version": 3
   },
   "file_extension": ".py",
   "mimetype": "text/x-python",
   "name": "python",
   "nbconvert_exporter": "python",
   "pygments_lexer": "ipython3",
   "version": "3.9.15"
  },
  "toc": {
   "base_numbering": 1,
   "nav_menu": {},
   "number_sections": false,
   "sideBar": true,
   "skip_h1_title": false,
   "title_cell": "Table of Contents",
   "title_sidebar": "Contents",
   "toc_cell": false,
   "toc_position": {},
   "toc_section_display": true,
   "toc_window_display": false
  }
 },
 "nbformat": 4,
 "nbformat_minor": 5
}
