{
 "cells": [
  {
   "cell_type": "markdown",
   "id": "1c3d3cd9",
   "metadata": {},
   "source": [
    "# Overhauling Matplotlib Defaults"
   ]
  },
  {
   "cell_type": "markdown",
   "id": "fcbda873",
   "metadata": {},
   "source": [
    "## Learning Objectives:\n",
    "\n",
    "- Explore and set a \"context\" for visuals\n",
    "- Adjust the relative font size\n",
    "\n",
    "## Using seaborn's sns.set_context to simplify resizing text\n",
    "- Overall, we have a nice visualization thus far. One major consideration for our final figure is the overall text size and readability.\n",
    "- Instead of manually setting the font size and parameters for every piece of text on our figure (major/minor tick labels, xlabel/ylabel, title, etc.):\n",
    "    - we can use seaborn's sns.set_context function!\n",
    "- According to the documentation for the set_context function, it will:\n",
    "    - \"Set the parameters that control the scaling of plot elements. This affects things like the size of the labels, lines, and other elements of the plot, but not the overall style.\"\n",
    "- The function accepts the following parameters:\n",
    "    - \"context\":\n",
    "        - The scenario where your figure will viewed.\n",
    "        - Options are:\n",
    "            - \"notebook\"\n",
    "            - \"talk\"\n",
    "            - \"paper\"\n",
    "            - \"poster\"\n",
    "        - \"font_scale\":\n",
    "            - a float that represents how much more to scale text\n",
    "            - 1=default size, 2= double size, 0.5 = half size, etc.\n",
    "\n",
    "## Temporarily using a context with sns.plotting_context\n",
    "- If you only want to temporarily change the context settings, we can use sns.plotting_context (documentation).\n",
    "        - We use the word \"with\" to temporarily apply the settings, just like when we temporarily opened local files.\n",
    "- Example:\n",
    "- We are going to first explore some options using the temporary sns.plotting_context. Once we have decided on our final format, we will use sns.set_context.\n",
    "\n",
    "Note that this is using the custom function (plot_dates) we created in an earlier lesson!"
   ]
  },
  {
   "cell_type": "code",
   "execution_count": 1,
   "id": "e08046a3",
   "metadata": {},
   "outputs": [
    {
     "ename": "NameError",
     "evalue": "name 'plot_dates' is not defined",
     "output_type": "error",
     "traceback": [
      "\u001b[0;31m---------------------------------------------------------------------------\u001b[0m",
      "\u001b[0;31mNameError\u001b[0m                                 Traceback (most recent call last)",
      "Cell \u001b[0;32mIn [1], line 3\u001b[0m\n\u001b[1;32m      1\u001b[0m \u001b[38;5;28;01mimport\u001b[39;00m \u001b[38;5;21;01mseaborn\u001b[39;00m \u001b[38;5;28;01mas\u001b[39;00m \u001b[38;5;21;01msns\u001b[39;00m\n\u001b[1;32m      2\u001b[0m \u001b[38;5;28;01mwith\u001b[39;00m sns\u001b[38;5;241m.\u001b[39mplotting_context(\u001b[38;5;124m'\u001b[39m\u001b[38;5;124mposter\u001b[39m\u001b[38;5;124m'\u001b[39m):    \n\u001b[0;32m----> 3\u001b[0m     fig,ax \u001b[38;5;241m=\u001b[39m \u001b[43mplot_dates\u001b[49m(ts,xtick_fontsize\u001b[38;5;241m=\u001b[39m\u001b[38;5;28;01mNone\u001b[39;00m,xtick_fontweight\u001b[38;5;241m=\u001b[39m\u001b[38;5;28;01mNone\u001b[39;00m,title\u001b[38;5;241m=\u001b[39m\u001b[38;5;124m\"\u001b[39m\u001b[38;5;124mContext=Poster\u001b[39m\u001b[38;5;124m\"\u001b[39m)\n",
      "\u001b[0;31mNameError\u001b[0m: name 'plot_dates' is not defined"
     ]
    }
   ],
   "source": [
    "import seaborn as sns\n",
    "with sns.plotting_context('poster'):    \n",
    "    fig,ax = plot_dates(ts,xtick_fontsize=None,xtick_fontweight=None,title=\"Context=Poster\")"
   ]
  },
  {
   "cell_type": "code",
   "execution_count": null,
   "id": "7e252be8",
   "metadata": {},
   "outputs": [],
   "source": []
  }
 ],
 "metadata": {
  "kernelspec": {
   "display_name": "Python (dojo-env)",
   "language": "python",
   "name": "dojo-env"
  },
  "language_info": {
   "codemirror_mode": {
    "name": "ipython",
    "version": 3
   },
   "file_extension": ".py",
   "mimetype": "text/x-python",
   "name": "python",
   "nbconvert_exporter": "python",
   "pygments_lexer": "ipython3",
   "version": "3.9.15"
  },
  "toc": {
   "base_numbering": 1,
   "nav_menu": {},
   "number_sections": false,
   "sideBar": true,
   "skip_h1_title": false,
   "title_cell": "Table of Contents",
   "title_sidebar": "Contents",
   "toc_cell": false,
   "toc_position": {},
   "toc_section_display": true,
   "toc_window_display": false
  }
 },
 "nbformat": 4,
 "nbformat_minor": 5
}
